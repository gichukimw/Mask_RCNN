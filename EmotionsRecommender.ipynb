{
  "nbformat": 4,
  "nbformat_minor": 0,
  "metadata": {
    "colab": {
      "provenance": [],
      "authorship_tag": "ABX9TyNr2rAJKQO6t/oKxOTgVS/D",
      "include_colab_link": true
    },
    "kernelspec": {
      "name": "python3",
      "display_name": "Python 3"
    },
    "language_info": {
      "name": "python"
    }
  },
  "cells": [
    {
      "cell_type": "markdown",
      "metadata": {
        "id": "view-in-github",
        "colab_type": "text"
      },
      "source": [
        "<a href=\"https://colab.research.google.com/github/gichukimw/Mask_RCNN/blob/master/EmotionsRecommender.ipynb\" target=\"_parent\"><img src=\"https://colab.research.google.com/assets/colab-badge.svg\" alt=\"Open In Colab\"/></a>"
      ]
    },
    {
      "cell_type": "markdown",
      "source": [
        "# **Emotion-Sensitive Learning Tool (ESLT)**"
      ],
      "metadata": {
        "id": "OkCKW_AV4kDF"
      }
    },
    {
      "cell_type": "code",
      "source": [
        "def recommend_action(emotion):\n",
        "    recommendations = {\n",
        "        \"happy\": \"Give an activity that fosters growth e.g. try a new skill\",\n",
        "        \"sad\": \"Play some soothing music for the child.\",\n",
        "        \"angry\": \"Do some breathing exercises\",\n",
        "        \"tired\": \"Play soft lullabies for relaxation.\",\n",
        "        \"lonely\": \"Encourage social interaction, perhaps a video call with a loved one.\",\n",
        "        \"surprised\": \"Suggest a calming activity, like coloring or listening to instrumental music.\",\n",
        "        \"bored\": \"Suggest a fun game or a creative activity like drawing.\",\n",
        "        \"anxious\": \"Play nature sounds or guide them through simple mindfulness exercises.\",\n",
        "\n",
        "      }\n",
        "\n",
        "    return recommendations.get(emotion.lower(), \"Emotion not recognized. Try again!\")\n",
        "\n",
        "# Example usage\n",
        "emotion = input(\"Enter an emotion: \")\n",
        "print(recommend_action(emotion))\n"
      ],
      "metadata": {
        "colab": {
          "base_uri": "https://localhost:8080/"
        },
        "id": "5oWgHdhF1Yem",
        "outputId": "0ccf994e-6dab-4235-a56c-fccfbfbfb3dc"
      },
      "execution_count": 14,
      "outputs": [
        {
          "output_type": "stream",
          "name": "stdout",
          "text": [
            "Enter an emotion: happy\n",
            "Give an activity that fosters growth e.g. try a new skill\n"
          ]
        }
      ]
    }
  ]
}